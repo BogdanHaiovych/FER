{
  "nbformat": 4,
  "nbformat_minor": 0,
  "metadata": {
    "colab": {
      "name": "Untitled1.ipynb",
      "version": "0.3.2",
      "provenance": []
    },
    "kernelspec": {
      "name": "python3",
      "display_name": "Python 3"
    },
    "accelerator": "GPU"
  },
  "cells": [
    {
      "metadata": {
        "id": "jbi2toCra2BJ",
        "colab_type": "code",
        "colab": {}
      },
      "cell_type": "code",
      "source": [
        "import keras\n",
        "import numpy as np\n",
        "import pandas as pd\n",
        "import os"
      ],
      "execution_count": 0,
      "outputs": []
    },
    {
      "metadata": {
        "id": "qxKZP9XAa6Ad",
        "colab_type": "code",
        "colab": {}
      },
      "cell_type": "code",
      "source": [
        "from keras.layers import Conv2D, MaxPool2D, Dense, Flatten"
      ],
      "execution_count": 0,
      "outputs": []
    },
    {
      "metadata": {
        "id": "8DodhwIEa_hX",
        "colab_type": "code",
        "colab": {
          "base_uri": "https://localhost:8080/",
          "height": 121
        },
        "outputId": "0cb1412f-bee7-4b46-888a-a0c92532fcef"
      },
      "cell_type": "code",
      "source": [
        "from google.colab import drive\n",
        "drive.mount('/content/drive')"
      ],
      "execution_count": 4,
      "outputs": [
        {
          "output_type": "stream",
          "text": [
            "Go to this URL in a browser: https://accounts.google.com/o/oauth2/auth?client_id=947318989803-6bn6qk8qdgf4n4g3pfee6491hc0brc4i.apps.googleusercontent.com&redirect_uri=urn%3Aietf%3Awg%3Aoauth%3A2.0%3Aoob&scope=email%20https%3A%2F%2Fwww.googleapis.com%2Fauth%2Fdocs.test%20https%3A%2F%2Fwww.googleapis.com%2Fauth%2Fdrive%20https%3A%2F%2Fwww.googleapis.com%2Fauth%2Fdrive.photos.readonly%20https%3A%2F%2Fwww.googleapis.com%2Fauth%2Fpeopleapi.readonly&response_type=code\n",
            "\n",
            "Enter your authorization code:\n",
            "··········\n",
            "Mounted at /content/drive\n"
          ],
          "name": "stdout"
        }
      ]
    },
    {
      "metadata": {
        "id": "bXrerJPqbDNF",
        "colab_type": "code",
        "colab": {
          "base_uri": "https://localhost:8080/",
          "height": 34
        },
        "outputId": "571c3d99-4f34-4fde-bd99-aacbf6ab576d"
      },
      "cell_type": "code",
      "source": [
        "os.chdir('drive/My Drive/Colab Notebooks')\n",
        "!ls"
      ],
      "execution_count": 6,
      "outputs": [
        {
          "output_type": "stream",
          "text": [
            "dogs_cats_small  fer2013.csv  fer.ipynb  Untitled0.ipynb  Untitled1.ipynb\n"
          ],
          "name": "stdout"
        }
      ]
    },
    {
      "metadata": {
        "id": "KZobO8Rvblqw",
        "colab_type": "code",
        "colab": {}
      },
      "cell_type": "code",
      "source": [
        "def init_weight_and_bias(M1, M2):\n",
        "    W = np.random.randn(M1, M2) / np.sqrt(M1 + M2)\n",
        "    b = np.zeros(M2)\n",
        "    return W.astype(np.float32), b.astype(np.float32)\n",
        "\n",
        "\n",
        "def sigmoid(A):\n",
        "    return 1 / (1 + np.exp(-A))\n",
        "\n",
        "\n",
        "def sigmoid_cost(T, Y):\n",
        "    return -(T*np.log(Y) + (1-T)*np.log(1-Y)).sum()\n",
        "\n",
        "\n",
        "def getData(balance_ones=True):\n",
        "    # images are 48x48 = 2304 size vectors\n",
        "    Y = []\n",
        "    X = []\n",
        "    first = True\n",
        "    for line in open('fer2013.csv'):\n",
        "        if first:\n",
        "            first = False\n",
        "        else:\n",
        "            row = line.split(',')\n",
        "            Y.append(int(row[0]))\n",
        "            X.append([int(p) for p in row[1].split()])\n",
        "\n",
        "\n",
        "    X, Y = np.array(X) / 255.0, np.array(Y)\n",
        "\n",
        "    if balance_ones:\n",
        "        # balance the 1 class\n",
        "        X0, Y0 = X[Y != 1, :], Y[Y != 1]\n",
        "        X1 = X[Y == 1, :]\n",
        "        X1 = np.repeat(X1, 9, axis=0)\n",
        "        X = np.vstack([X0, X1])\n",
        "        Y = np.concatenate((Y0, [1]*len(X1)))\n",
        "\n",
        "    return X, Y\n",
        "\n",
        "\n",
        "def getBinaryData():\n",
        "    Y = []\n",
        "    X = []\n",
        "    first = True\n",
        "    for line in open('fer2013.csv'):\n",
        "        if first:\n",
        "            first = False\n",
        "        else:\n",
        "            row = line.split(',')\n",
        "            y = int(row[0])\n",
        "            if y == 0 or y == 1:\n",
        "                Y.append(y)\n",
        "                X.append([int(p) for p in row[1].split()])\n",
        "    return np.array(X) / 255.0, np.array(Y)\n",
        "\n",
        "\n",
        "def error_rate(targets, predictions):\n",
        "    return np.mean(targets != predictions)"
      ],
      "execution_count": 0,
      "outputs": []
    },
    {
      "metadata": {
        "id": "olhdVqgZcGHH",
        "colab_type": "code",
        "colab": {
          "base_uri": "https://localhost:8080/",
          "height": 34
        },
        "outputId": "cf00c6d2-c993-43a4-db89-03214c8948ca"
      },
      "cell_type": "code",
      "source": [
        "# images are 48x48 = 2304 size vectors\n",
        "X, Y =getBinaryData()\n",
        "print(X.shape, Y.shape)"
      ],
      "execution_count": 8,
      "outputs": [
        {
          "output_type": "stream",
          "text": [
            "(5500, 2304) (5500,)\n"
          ],
          "name": "stdout"
        }
      ]
    },
    {
      "metadata": {
        "id": "V1w-5GKycJVn",
        "colab_type": "code",
        "colab": {
          "base_uri": "https://localhost:8080/",
          "height": 50
        },
        "outputId": "61ec0233-b257-46ae-b98c-16f0016728d4"
      },
      "cell_type": "code",
      "source": [
        "N_train = 5000\n",
        "N_test = 500\n",
        "\n",
        "Xtrain = X[:N_train, :]\n",
        "Ytrain = Y[:N_train]\n",
        "Xtest = X[-N_test:, :]\n",
        "Ytest = Y[-N_test:]\n",
        "\n",
        "Xtrain = Xtrain.reshape(N_train, 48, 48, 1)\n",
        "Xtest = Xtest.reshape(N_test, 48, 48, 1)\n",
        "\n",
        "print(Xtrain.shape, Ytrain.shape)\n",
        "print(Xtest.shape, Ytest.shape)"
      ],
      "execution_count": 9,
      "outputs": [
        {
          "output_type": "stream",
          "text": [
            "(5000, 48, 48, 1) (5000,)\n",
            "(500, 48, 48, 1) (500,)\n"
          ],
          "name": "stdout"
        }
      ]
    },
    {
      "metadata": {
        "id": "FvbQTDM9cK-b",
        "colab_type": "code",
        "colab": {}
      },
      "cell_type": "code",
      "source": [
        "y_train_cat = keras.utils.to_categorical(Ytrain, 7)\n",
        "y_test_cat = keras.utils.to_categorical(Ytest, 7)\n",
        "input_shape = (48, 48, 1)"
      ],
      "execution_count": 0,
      "outputs": []
    },
    {
      "metadata": {
        "id": "KyAnyBbqcM0s",
        "colab_type": "code",
        "colab": {}
      },
      "cell_type": "code",
      "source": [
        "model = keras.models.Sequential()"
      ],
      "execution_count": 0,
      "outputs": []
    },
    {
      "metadata": {
        "id": "6ZFSYcehcPC7",
        "colab_type": "code",
        "colab": {}
      },
      "cell_type": "code",
      "source": [
        "model = keras.models.Sequential()\n",
        "model.add(Conv2D(32, kernel_size = (3,3), padding = 'same',\n",
        "                 input_shape = input_shape, activation = 'relu'))\n",
        "model.add(MaxPool2D())\n",
        "model.add(Conv2D(64, kernel_size = (3,3), padding = 'same',\n",
        "                 activation = 'relu'))\n",
        "model.add(MaxPool2D())\n",
        "model.add(Conv2D(128, kernel_size = (3,3), padding = 'same',\n",
        "                 activation = 'relu'))\n",
        "model.add(MaxPool2D())\n",
        "model.add(Conv2D(256, kernel_size = (3,3), padding = 'same',\n",
        "                 activation = 'relu'))\n",
        "model.add(MaxPool2D((6,6)))\n",
        "model.add(Flatten())\n",
        "model.add(Dense(7, activation = 'softmax'))"
      ],
      "execution_count": 0,
      "outputs": []
    },
    {
      "metadata": {
        "id": "t3znyTOqcRQL",
        "colab_type": "code",
        "colab": {
          "base_uri": "https://localhost:8080/",
          "height": 3394
        },
        "outputId": "92057b7e-1373-4a5e-e79a-e212b46ae10e"
      },
      "cell_type": "code",
      "source": [
        "model.compile(optimizer=keras.optimizers.Adam(lr = 0.001),\n",
        "             loss = keras.losses.categorical_crossentropy,\n",
        "             metrics = ['accuracy'])\n",
        "model.fit(Xtrain, y_train_cat, batch_size=128, epochs=100)"
      ],
      "execution_count": 14,
      "outputs": [
        {
          "output_type": "stream",
          "text": [
            "Epoch 1/100\n",
            "5000/5000 [==============================] - 2s 353us/step - loss: 0.2782 - acc: 0.9004\n",
            "Epoch 2/100\n",
            "5000/5000 [==============================] - 1s 268us/step - loss: 0.2699 - acc: 0.9052\n",
            "Epoch 3/100\n",
            "5000/5000 [==============================] - 1s 269us/step - loss: 0.2552 - acc: 0.9054\n",
            "Epoch 4/100\n",
            "5000/5000 [==============================] - 1s 267us/step - loss: 0.2581 - acc: 0.9092\n",
            "Epoch 5/100\n",
            "5000/5000 [==============================] - 1s 268us/step - loss: 0.2382 - acc: 0.9130\n",
            "Epoch 6/100\n",
            "5000/5000 [==============================] - 1s 269us/step - loss: 0.2249 - acc: 0.9182\n",
            "Epoch 7/100\n",
            "5000/5000 [==============================] - 1s 269us/step - loss: 0.2097 - acc: 0.9246\n",
            "Epoch 8/100\n",
            "5000/5000 [==============================] - 1s 268us/step - loss: 0.1974 - acc: 0.9302\n",
            "Epoch 9/100\n",
            "5000/5000 [==============================] - 1s 268us/step - loss: 0.2029 - acc: 0.9240\n",
            "Epoch 10/100\n",
            "5000/5000 [==============================] - 1s 266us/step - loss: 0.1893 - acc: 0.9314\n",
            "Epoch 11/100\n",
            "5000/5000 [==============================] - 1s 270us/step - loss: 0.1719 - acc: 0.9376\n",
            "Epoch 12/100\n",
            "5000/5000 [==============================] - 1s 268us/step - loss: 0.1604 - acc: 0.9426\n",
            "Epoch 13/100\n",
            "5000/5000 [==============================] - 1s 267us/step - loss: 0.1320 - acc: 0.9532\n",
            "Epoch 14/100\n",
            "5000/5000 [==============================] - 1s 267us/step - loss: 0.1368 - acc: 0.9510\n",
            "Epoch 15/100\n",
            "5000/5000 [==============================] - 1s 269us/step - loss: 0.1048 - acc: 0.9622\n",
            "Epoch 16/100\n",
            "5000/5000 [==============================] - 1s 268us/step - loss: 0.1020 - acc: 0.9632\n",
            "Epoch 17/100\n",
            "5000/5000 [==============================] - 1s 268us/step - loss: 0.0823 - acc: 0.9722\n",
            "Epoch 18/100\n",
            "5000/5000 [==============================] - 1s 270us/step - loss: 0.0625 - acc: 0.9792\n",
            "Epoch 19/100\n",
            "5000/5000 [==============================] - 1s 269us/step - loss: 0.0508 - acc: 0.9850\n",
            "Epoch 20/100\n",
            "5000/5000 [==============================] - 1s 268us/step - loss: 0.0332 - acc: 0.9904\n",
            "Epoch 21/100\n",
            "5000/5000 [==============================] - 1s 267us/step - loss: 0.0251 - acc: 0.9940\n",
            "Epoch 22/100\n",
            "5000/5000 [==============================] - 1s 270us/step - loss: 0.0304 - acc: 0.9916\n",
            "Epoch 23/100\n",
            "5000/5000 [==============================] - 1s 268us/step - loss: 0.0227 - acc: 0.9934\n",
            "Epoch 24/100\n",
            "5000/5000 [==============================] - 1s 266us/step - loss: 0.0110 - acc: 0.9974\n",
            "Epoch 25/100\n",
            "5000/5000 [==============================] - 1s 266us/step - loss: 0.0076 - acc: 0.9996\n",
            "Epoch 26/100\n",
            "5000/5000 [==============================] - 1s 269us/step - loss: 0.0061 - acc: 0.9994\n",
            "Epoch 27/100\n",
            "5000/5000 [==============================] - 1s 267us/step - loss: 0.0055 - acc: 0.9998\n",
            "Epoch 28/100\n",
            "5000/5000 [==============================] - 1s 271us/step - loss: 0.0114 - acc: 0.9968\n",
            "Epoch 29/100\n",
            "5000/5000 [==============================] - 1s 274us/step - loss: 0.0063 - acc: 0.9992\n",
            "Epoch 30/100\n",
            "5000/5000 [==============================] - 1s 275us/step - loss: 0.0031 - acc: 0.9996\n",
            "Epoch 31/100\n",
            "5000/5000 [==============================] - 1s 277us/step - loss: 0.0068 - acc: 0.9988\n",
            "Epoch 32/100\n",
            "5000/5000 [==============================] - 1s 272us/step - loss: 0.0047 - acc: 0.9998\n",
            "Epoch 33/100\n",
            "5000/5000 [==============================] - 1s 268us/step - loss: 0.0035 - acc: 0.9996\n",
            "Epoch 34/100\n",
            "5000/5000 [==============================] - 1s 269us/step - loss: 0.0035 - acc: 0.9998\n",
            "Epoch 35/100\n",
            "5000/5000 [==============================] - 1s 269us/step - loss: 0.0205 - acc: 0.9924\n",
            "Epoch 36/100\n",
            "5000/5000 [==============================] - 1s 267us/step - loss: 0.0605 - acc: 0.9760\n",
            "Epoch 37/100\n",
            "5000/5000 [==============================] - 1s 266us/step - loss: 0.0149 - acc: 0.9962\n",
            "Epoch 38/100\n",
            "5000/5000 [==============================] - 1s 271us/step - loss: 0.0049 - acc: 0.9996\n",
            "Epoch 39/100\n",
            "5000/5000 [==============================] - 1s 271us/step - loss: 0.0034 - acc: 0.9998\n",
            "Epoch 40/100\n",
            "5000/5000 [==============================] - 1s 267us/step - loss: 0.0025 - acc: 0.9998\n",
            "Epoch 41/100\n",
            "5000/5000 [==============================] - 1s 270us/step - loss: 0.0023 - acc: 0.9998\n",
            "Epoch 42/100\n",
            "5000/5000 [==============================] - 1s 270us/step - loss: 0.0028 - acc: 0.9998\n",
            "Epoch 43/100\n",
            "5000/5000 [==============================] - 1s 269us/step - loss: 9.3925e-04 - acc: 1.0000\n",
            "Epoch 44/100\n",
            "5000/5000 [==============================] - 1s 268us/step - loss: 0.0039 - acc: 0.9996\n",
            "Epoch 45/100\n",
            "5000/5000 [==============================] - 1s 266us/step - loss: 0.0039 - acc: 0.9996\n",
            "Epoch 46/100\n",
            "5000/5000 [==============================] - 1s 267us/step - loss: 0.0034 - acc: 0.9996\n",
            "Epoch 47/100\n",
            "5000/5000 [==============================] - 1s 267us/step - loss: 0.0035 - acc: 0.9992\n",
            "Epoch 48/100\n",
            "5000/5000 [==============================] - 1s 267us/step - loss: 0.0030 - acc: 0.9996\n",
            "Epoch 49/100\n",
            "5000/5000 [==============================] - 1s 269us/step - loss: 0.0011 - acc: 0.9998\n",
            "Epoch 50/100\n",
            "5000/5000 [==============================] - 1s 269us/step - loss: 0.0035 - acc: 0.9998\n",
            "Epoch 51/100\n",
            "5000/5000 [==============================] - 1s 269us/step - loss: 0.0042 - acc: 0.9996\n",
            "Epoch 52/100\n",
            "5000/5000 [==============================] - 1s 270us/step - loss: 0.0021 - acc: 0.9998\n",
            "Epoch 53/100\n",
            "5000/5000 [==============================] - 1s 269us/step - loss: 0.0039 - acc: 0.9996\n",
            "Epoch 54/100\n",
            "5000/5000 [==============================] - 1s 268us/step - loss: 0.0020 - acc: 0.9998\n",
            "Epoch 55/100\n",
            "5000/5000 [==============================] - 1s 267us/step - loss: 0.0021 - acc: 0.9998\n",
            "Epoch 56/100\n",
            "5000/5000 [==============================] - 1s 266us/step - loss: 0.0025 - acc: 0.9998\n",
            "Epoch 57/100\n",
            "5000/5000 [==============================] - 1s 269us/step - loss: 0.0027 - acc: 0.9998\n",
            "Epoch 58/100\n",
            "5000/5000 [==============================] - 1s 268us/step - loss: 0.0022 - acc: 0.9998\n",
            "Epoch 59/100\n",
            "5000/5000 [==============================] - 1s 268us/step - loss: 0.0046 - acc: 0.9998\n",
            "Epoch 60/100\n",
            "5000/5000 [==============================] - 1s 270us/step - loss: 0.0037 - acc: 0.9996\n",
            "Epoch 61/100\n",
            "5000/5000 [==============================] - 1s 269us/step - loss: 0.0045 - acc: 0.9996\n",
            "Epoch 62/100\n",
            "5000/5000 [==============================] - 1s 268us/step - loss: 0.0038 - acc: 0.9996\n",
            "Epoch 63/100\n",
            "5000/5000 [==============================] - 1s 270us/step - loss: 0.0038 - acc: 0.9996\n",
            "Epoch 64/100\n",
            "5000/5000 [==============================] - 1s 269us/step - loss: 0.0030 - acc: 0.9998\n",
            "Epoch 65/100\n",
            "5000/5000 [==============================] - 1s 267us/step - loss: 0.0039 - acc: 0.9996\n",
            "Epoch 66/100\n",
            "5000/5000 [==============================] - 1s 268us/step - loss: 0.0025 - acc: 0.9998\n",
            "Epoch 67/100\n",
            "5000/5000 [==============================] - 1s 269us/step - loss: 0.0039 - acc: 0.9996\n",
            "Epoch 68/100\n",
            "5000/5000 [==============================] - 1s 268us/step - loss: 0.0022 - acc: 0.9998\n",
            "Epoch 69/100\n",
            "5000/5000 [==============================] - 1s 269us/step - loss: 0.0029 - acc: 0.9998\n",
            "Epoch 70/100\n",
            "5000/5000 [==============================] - 1s 268us/step - loss: 0.0026 - acc: 0.9998\n",
            "Epoch 71/100\n",
            "5000/5000 [==============================] - 1s 270us/step - loss: 0.0028 - acc: 0.9996\n",
            "Epoch 72/100\n",
            "5000/5000 [==============================] - 1s 268us/step - loss: 0.0018 - acc: 0.9998\n",
            "Epoch 73/100\n",
            "5000/5000 [==============================] - 1s 265us/step - loss: 0.0040 - acc: 0.9996\n",
            "Epoch 74/100\n",
            "5000/5000 [==============================] - 1s 269us/step - loss: 0.0033 - acc: 0.9996\n",
            "Epoch 75/100\n",
            "5000/5000 [==============================] - 1s 268us/step - loss: 0.0027 - acc: 0.9998\n",
            "Epoch 76/100\n",
            "5000/5000 [==============================] - 1s 269us/step - loss: 0.0012 - acc: 0.9998\n",
            "Epoch 77/100\n",
            "5000/5000 [==============================] - 1s 270us/step - loss: 0.0036 - acc: 0.9998\n",
            "Epoch 78/100\n",
            "5000/5000 [==============================] - 1s 268us/step - loss: 0.0016 - acc: 0.9998\n",
            "Epoch 79/100\n",
            "5000/5000 [==============================] - 1s 268us/step - loss: 0.0035 - acc: 0.9998\n",
            "Epoch 80/100\n",
            "5000/5000 [==============================] - 1s 267us/step - loss: 0.0015 - acc: 0.9998\n",
            "Epoch 81/100\n",
            "5000/5000 [==============================] - 1s 267us/step - loss: 0.0030 - acc: 0.9998\n",
            "Epoch 82/100\n",
            "5000/5000 [==============================] - 1s 270us/step - loss: 0.0043 - acc: 0.9998\n",
            "Epoch 83/100\n",
            "5000/5000 [==============================] - 1s 269us/step - loss: 0.0065 - acc: 0.9994\n",
            "Epoch 84/100\n",
            "5000/5000 [==============================] - 1s 269us/step - loss: 0.0780 - acc: 0.9718\n",
            "Epoch 85/100\n",
            "5000/5000 [==============================] - 1s 267us/step - loss: 0.0349 - acc: 0.9858\n",
            "Epoch 86/100\n",
            "5000/5000 [==============================] - 1s 267us/step - loss: 0.0208 - acc: 0.9934\n",
            "Epoch 87/100\n",
            "5000/5000 [==============================] - 1s 269us/step - loss: 0.0043 - acc: 0.9992\n",
            "Epoch 88/100\n",
            "5000/5000 [==============================] - 1s 268us/step - loss: 0.0022 - acc: 0.9998\n",
            "Epoch 89/100\n",
            "5000/5000 [==============================] - 1s 268us/step - loss: 0.0025 - acc: 0.9998\n",
            "Epoch 90/100\n",
            "5000/5000 [==============================] - 1s 270us/step - loss: 0.0039 - acc: 0.9996\n",
            "Epoch 91/100\n",
            "5000/5000 [==============================] - 1s 267us/step - loss: 0.0029 - acc: 0.9996\n",
            "Epoch 92/100\n",
            "5000/5000 [==============================] - 1s 267us/step - loss: 0.0015 - acc: 0.9998\n",
            "Epoch 93/100\n",
            "5000/5000 [==============================] - 1s 268us/step - loss: 0.0024 - acc: 0.9998\n",
            "Epoch 94/100\n",
            "5000/5000 [==============================] - 1s 267us/step - loss: 0.0020 - acc: 0.9998\n",
            "Epoch 95/100\n",
            "5000/5000 [==============================] - 1s 269us/step - loss: 0.0017 - acc: 0.9998\n",
            "Epoch 96/100\n",
            "5000/5000 [==============================] - 1s 270us/step - loss: 0.0018 - acc: 0.9998\n",
            "Epoch 97/100\n",
            "5000/5000 [==============================] - 1s 271us/step - loss: 0.0022 - acc: 0.9998\n",
            "Epoch 98/100\n",
            "5000/5000 [==============================] - 1s 267us/step - loss: 0.0028 - acc: 0.9996\n",
            "Epoch 99/100\n",
            "5000/5000 [==============================] - 1s 269us/step - loss: 0.0034 - acc: 0.9994\n",
            "Epoch 100/100\n",
            "5000/5000 [==============================] - 1s 269us/step - loss: 0.0024 - acc: 0.9998\n"
          ],
          "name": "stdout"
        },
        {
          "output_type": "execute_result",
          "data": {
            "text/plain": [
              "<keras.callbacks.History at 0x7f52031ea9b0>"
            ]
          },
          "metadata": {
            "tags": []
          },
          "execution_count": 14
        }
      ]
    },
    {
      "metadata": {
        "id": "zL-oMm0ZcTId",
        "colab_type": "code",
        "colab": {
          "base_uri": "https://localhost:8080/",
          "height": 50
        },
        "outputId": "48b4a88e-f4c9-4409-9d2f-1ad68ad1c1ff"
      },
      "cell_type": "code",
      "source": [
        "score = model.evaluate(Xtest, y_test_cat)\n",
        "print(score)"
      ],
      "execution_count": 15,
      "outputs": [
        {
          "output_type": "stream",
          "text": [
            "500/500 [==============================] - 0s 451us/step\n",
            "[0.46281298147374766, 0.944]\n"
          ],
          "name": "stdout"
        }
      ]
    },
    {
      "metadata": {
        "id": "zhCnw5OxdDnT",
        "colab_type": "code",
        "colab": {}
      },
      "cell_type": "code",
      "source": [
        "model_json = model.to_json()"
      ],
      "execution_count": 0,
      "outputs": []
    },
    {
      "metadata": {
        "id": "cBrj4hW3dUph",
        "colab_type": "code",
        "colab": {}
      },
      "cell_type": "code",
      "source": [
        "model_json_file = open(\"model.json\", \"w\")\n",
        "model_json_file.write(model_json)\n",
        "model_json_file.close()"
      ],
      "execution_count": 0,
      "outputs": []
    },
    {
      "metadata": {
        "id": "FVv5uNS0dZWM",
        "colab_type": "code",
        "colab": {}
      },
      "cell_type": "code",
      "source": [
        "model.save_weights('binary_fer_weights.h5')"
      ],
      "execution_count": 0,
      "outputs": []
    },
    {
      "metadata": {
        "id": "NbBwgQ1kdixd",
        "colab_type": "code",
        "colab": {}
      },
      "cell_type": "code",
      "source": [
        ""
      ],
      "execution_count": 0,
      "outputs": []
    }
  ]
}